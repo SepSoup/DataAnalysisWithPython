{
 "cells": [
  {
   "cell_type": "markdown",
   "metadata": {},
   "source": [
    "### Data Cleaning\n",
    "Suppose we were doing some data cleaning and needed to apply a bunch of transformations to the following list of strings:"
   ]
  },
  {
   "cell_type": "code",
   "execution_count": 6,
   "metadata": {},
   "outputs": [
    {
     "data": {
      "text/plain": [
       "[' Alabama ',\n",
       " 'Georgia!',\n",
       " 'Georgia',\n",
       " 'georgia',\n",
       " 'FlOrIda',\n",
       " 'south carolina##',\n",
       " 'West virginia?']"
      ]
     },
     "execution_count": 6,
     "metadata": {},
     "output_type": "execute_result"
    }
   ],
   "source": [
    "states = [\" Alabama \", \"Georgia!\", \"Georgia\", \"georgia\", \"FlOrIda\",\"south carolina##\", \"West virginia?\"]\n",
    "states"
   ]
  },
  {
   "cell_type": "code",
   "execution_count": 3,
   "metadata": {},
   "outputs": [],
   "source": [
    "import re"
   ]
  },
  {
   "cell_type": "markdown",
   "metadata": {},
   "source": [
    "## The `re` module\n",
    "The re module in Python provides support for working with regular expressions. Regular expressions (regex) are a powerful tool for matching and manipulating text based on patterns. The re module allows you to perform various operations using regex patterns, including searching, replacing, and splitting strings.\n",
    "### re.match() :\n",
    "- The `re.match()` function is used to search for a pattern at the beginning of a string.\n",
    "```python\n",
    "result = re.match(r'\\d+', '123abc')\n",
    "print(result.group())  # Output: '123'\n",
    "```\n",
    "### re.search() :\n",
    "- The `re.search()` function is used to search for a pattern anywhere in a string.\n",
    "- returns the first occurrence.\n",
    "```python\n",
    "result = re.search(r'\\d+', 'abc123def')\n",
    "print(result.group())  # Output: '123'\n",
    "```\n",
    "### re.findall() :\n",
    "- Returns all non-overlapping matches of the pattern in the string as a list.\n",
    "```python\n",
    "results = re.findall(r'\\d+', 'abc123def456')\n",
    "print(results)  # Output: ['123', '456']\n",
    "```\n",
    "### re.sub() :\n",
    "- Replaces matches of the pattern with a replacement string.\n",
    "```python\n",
    "result = re.sub(r'\\d+', 'NUM', 'abc123def456')\n",
    "print(result)  # Output: 'abcNUMdefNUM'\n",
    "```\n",
    "### re.split() :\n",
    "- Splits the string by occurrences of the pattern.\n",
    "```python\n",
    "results = re.split(r'\\d+', 'abc123def456')\n",
    "print(results)  # Output: ['abc', 'def', '']\n",
    "```\n",
    "## Regular Expression Syntax\n",
    "- `.` : Matches any character except a newline\n",
    "- `^` : Matches the start of a string\n",
    "- `$` : Matches the end of a string\n",
    "- `|` : Matches either the expression before or after the `|`\n",
    "- `*` : Matches 0 or more occurrences of the preceding element\n",
    "- `+` : Matches 1 or more occurrences of the preceding element\n",
    "- `?` : Matches 0 or 1 occurrence of the preceding element\n",
    "- `\\d` : Matches any digit (equivalent to [0-9]).\n",
    "- `\\w` : Matches any alphanumeric character (equivalent to [a-zA-Z0-9_]).\n",
    "- `\\s` : Matches any whitespace character (e.g., space, tab).\n",
    "- `{n, m}` : Matches between n and m occurrences of the preceding element\n",
    "- `[abc]` : Matches any character in the brackets\n",
    "- `[^abc]` : Matches any character not in the brackets\n",
    "\n",
    "\n",
    "\n",
    "\n",
    "\n"
   ]
  },
  {
   "cell_type": "code",
   "execution_count": 4,
   "metadata": {},
   "outputs": [],
   "source": [
    "def clean_states(states:list):\n",
    "    cleaned_states = []\n",
    "    for state in states:\n",
    "        state = state.strip()\n",
    "        state = re.sub(\"[!#?]\", \"\", state)\n",
    "        state = state.title()\n",
    "        cleaned_states.append(state)\n",
    "    return cleaned_states"
   ]
  },
  {
   "cell_type": "code",
   "execution_count": 5,
   "metadata": {},
   "outputs": [
    {
     "data": {
      "text/plain": [
       "['Alabama',\n",
       " 'Georgia',\n",
       " 'Georgia',\n",
       " 'Georgia',\n",
       " 'Florida',\n",
       " 'South Carolina',\n",
       " 'West Virginia']"
      ]
     },
     "execution_count": 5,
     "metadata": {},
     "output_type": "execute_result"
    }
   ],
   "source": [
    "clean_states(states)"
   ]
  },
  {
   "cell_type": "markdown",
   "metadata": {},
   "source": [
    "we can also create a list of functions that we want to be operated on the states :"
   ]
  },
  {
   "cell_type": "code",
   "execution_count": 12,
   "metadata": {},
   "outputs": [],
   "source": [
    "def remove_punctuation(value):\n",
    "    return re.sub(\"[!#?]\", \"\", value)\n",
    "clean_ops = [str.strip, remove_punctuation, str.title]\n",
    "def clean_strings(strings, ops):\n",
    " result = []\n",
    " for value in strings:\n",
    "    for func in ops:\n",
    "        value = func(value)\n",
    "    result.append(value)\n",
    " return result"
   ]
  },
  {
   "cell_type": "code",
   "execution_count": 13,
   "metadata": {},
   "outputs": [
    {
     "data": {
      "text/plain": [
       "['Alabama',\n",
       " 'Georgia',\n",
       " 'Georgia',\n",
       " 'Georgia',\n",
       " 'Florida',\n",
       " 'South Carolina',\n",
       " 'West Virginia']"
      ]
     },
     "execution_count": 13,
     "metadata": {},
     "output_type": "execute_result"
    }
   ],
   "source": [
    "clean_strings(states, clean_ops)"
   ]
  }
 ],
 "metadata": {
  "kernelspec": {
   "display_name": "Python 3",
   "language": "python",
   "name": "python3"
  },
  "language_info": {
   "codemirror_mode": {
    "name": "ipython",
    "version": 3
   },
   "file_extension": ".py",
   "mimetype": "text/x-python",
   "name": "python",
   "nbconvert_exporter": "python",
   "pygments_lexer": "ipython3",
   "version": "3.11.1"
  }
 },
 "nbformat": 4,
 "nbformat_minor": 2
}
