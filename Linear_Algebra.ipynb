{
 "cells": [
  {
   "cell_type": "markdown",
   "metadata": {},
   "source": [
    "# **Linear Algebra**"
   ]
  },
  {
   "cell_type": "code",
   "execution_count": 1,
   "metadata": {},
   "outputs": [],
   "source": [
    "import numpy as np"
   ]
  },
  {
   "cell_type": "code",
   "execution_count": 7,
   "metadata": {},
   "outputs": [
    {
     "data": {
      "text/plain": [
       "array([[ 28.,  64.],\n",
       "       [ 67., 181.]])"
      ]
     },
     "execution_count": 7,
     "metadata": {},
     "output_type": "execute_result"
    }
   ],
   "source": [
    "x = np.array([\n",
    "    [1., 2., 3.],\n",
    "    [4., 5., 6.],\n",
    "    ])\n",
    "\n",
    "y = np.array([\n",
    "    [6., 23],\n",
    "    [-1 , 7],\n",
    "    [8 , 9]\n",
    "])\n",
    "\n",
    "# x.dot(y)\n",
    "np.dot(x,y)"
   ]
  },
  {
   "cell_type": "markdown",
   "metadata": {},
   "source": [
    "A matrix product between a two-dimensional array and a suitably sized one dimensional array results in a one-dimensional array :"
   ]
  },
  {
   "cell_type": "code",
   "execution_count": 15,
   "metadata": {},
   "outputs": [
    {
     "data": {
      "text/plain": [
       "array([ 6., 15.])"
      ]
     },
     "execution_count": 15,
     "metadata": {},
     "output_type": "execute_result"
    }
   ],
   "source": [
    "x @ np.ones(x.shape[1])"
   ]
  },
  {
   "cell_type": "markdown",
   "metadata": {},
   "source": [
    "numpy.linalg has a standard set of matrix decompositions and things like `inverse` and `determinant` :\n"
   ]
  },
  {
   "cell_type": "code",
   "execution_count": 16,
   "metadata": {},
   "outputs": [],
   "source": [
    "from numpy.linalg import inv , qr"
   ]
  },
  {
   "cell_type": "code",
   "execution_count": 21,
   "metadata": {},
   "outputs": [
    {
     "name": "stdout",
     "output_type": "stream",
     "text": [
      "[[ 0.55293493 -0.1688862   0.50756561 -0.27709545 -0.18784165]\n",
      " [ 1.55198589 -0.21478852  0.40166591 -0.09711739 -0.19002139]\n",
      " [ 0.42280737 -0.5088147  -0.72729585  0.53818844  1.79783431]\n",
      " [-2.24065059  1.09550524  0.19178916 -1.64068032 -0.48989603]\n",
      " [ 0.74531347 -0.35204681  0.06778463  1.10982415  0.9691348 ]]\n"
     ]
    },
    {
     "data": {
      "text/plain": [
       "array([[-0.83860931,  1.07750558,  0.04141717,  0.11006048,  0.02753004],\n",
       "       [-2.89551597,  2.08855192, -0.47018057,  1.06153257,  1.25711964],\n",
       "       [ 1.6455003 , -0.51502016, -0.33398692,  0.31845267,  0.9985097 ],\n",
       "       [-0.66846308, -0.19305772, -0.54100877, -0.14740537,  0.76169025],\n",
       "       [ 0.24352287,  0.18713517,  0.44025809,  0.44749962,  0.525232  ]])"
      ]
     },
     "execution_count": 21,
     "metadata": {},
     "output_type": "execute_result"
    }
   ],
   "source": [
    "X = np.random.standard_normal(size=(5,5))\n",
    "print(X)\n",
    "inv(X)"
   ]
  }
 ],
 "metadata": {
  "kernelspec": {
   "display_name": "base",
   "language": "python",
   "name": "python3"
  },
  "language_info": {
   "codemirror_mode": {
    "name": "ipython",
    "version": 3
   },
   "file_extension": ".py",
   "mimetype": "text/x-python",
   "name": "python",
   "nbconvert_exporter": "python",
   "pygments_lexer": "ipython3",
   "version": "3.12.4"
  }
 },
 "nbformat": 4,
 "nbformat_minor": 2
}
