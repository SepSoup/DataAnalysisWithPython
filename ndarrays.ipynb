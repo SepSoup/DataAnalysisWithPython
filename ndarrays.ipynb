{
 "cells": [
  {
   "cell_type": "code",
   "execution_count": 1,
   "metadata": {},
   "outputs": [],
   "source": [
    "import numpy as np"
   ]
  },
  {
   "cell_type": "code",
   "execution_count": 2,
   "metadata": {},
   "outputs": [],
   "source": [
    "my_arr = np.arange(1_000_000)\n",
    "my_list = list(range(1_000_00))"
   ]
  },
  {
   "cell_type": "markdown",
   "metadata": {},
   "source": [
    "* NumPy-based algorithms are generally 10 to 100 times faster (or more) than their pure Python counterparts and use significantly less memory.\n"
   ]
  },
  {
   "cell_type": "code",
   "execution_count": 9,
   "metadata": {},
   "outputs": [
    {
     "name": "stdout",
     "output_type": "stream",
     "text": [
      "1.24 ms ± 29.3 μs per loop (mean ± std. dev. of 7 runs, 1,000 loops each)\n"
     ]
    }
   ],
   "source": [
    "%timeit my_arr2 = my_arr * 2"
   ]
  },
  {
   "cell_type": "code",
   "execution_count": 8,
   "metadata": {},
   "outputs": [
    {
     "name": "stdout",
     "output_type": "stream",
     "text": [
      "3.47 ms ± 92.6 μs per loop (mean ± std. dev. of 7 runs, 100 loops each)\n"
     ]
    }
   ],
   "source": [
    "%timeit my_list2 = [x * 2 for x in my_list]"
   ]
  },
  {
   "cell_type": "markdown",
   "metadata": {},
   "source": [
    "Arrays enable you to\n",
    "perform mathematical operations on whole blocks of data using similar syntax to the\n",
    "equivalent operations between scalar elements."
   ]
  },
  {
   "cell_type": "code",
   "execution_count": 11,
   "metadata": {},
   "outputs": [
    {
     "data": {
      "text/plain": [
       "array([[1, 2, 3],\n",
       "       [4, 5, 6],\n",
       "       [7, 8, 9]])"
      ]
     },
     "execution_count": 11,
     "metadata": {},
     "output_type": "execute_result"
    }
   ],
   "source": [
    "data = np.array([[1,2,3],\n",
    "                [4,5,6],\n",
    "                [7,8,9]])\n",
    "data"
   ]
  },
  {
   "cell_type": "code",
   "execution_count": 12,
   "metadata": {},
   "outputs": [
    {
     "data": {
      "text/plain": [
       "array([[10, 20, 30],\n",
       "       [40, 50, 60],\n",
       "       [70, 80, 90]])"
      ]
     },
     "execution_count": 12,
     "metadata": {},
     "output_type": "execute_result"
    }
   ],
   "source": [
    "data * 10"
   ]
  },
  {
   "cell_type": "code",
   "execution_count": 16,
   "metadata": {},
   "outputs": [
    {
     "data": {
      "text/plain": [
       "array([[ 2,  4,  6],\n",
       "       [ 8, 10, 12],\n",
       "       [14, 16, 18]])"
      ]
     },
     "execution_count": 16,
     "metadata": {},
     "output_type": "execute_result"
    }
   ],
   "source": [
    "data + data"
   ]
  },
  {
   "cell_type": "code",
   "execution_count": 22,
   "metadata": {},
   "outputs": [
    {
     "data": {
      "text/plain": [
       "2"
      ]
     },
     "execution_count": 22,
     "metadata": {},
     "output_type": "execute_result"
    }
   ],
   "source": [
    "data.ndim"
   ]
  },
  {
   "cell_type": "code",
   "execution_count": 20,
   "metadata": {},
   "outputs": [
    {
     "data": {
      "text/plain": [
       "(3, 3)"
      ]
     },
     "execution_count": 20,
     "metadata": {},
     "output_type": "execute_result"
    }
   ],
   "source": [
    "data.shape"
   ]
  },
  {
   "cell_type": "code",
   "execution_count": 21,
   "metadata": {},
   "outputs": [
    {
     "data": {
      "text/plain": [
       "dtype('int32')"
      ]
     },
     "execution_count": 21,
     "metadata": {},
     "output_type": "execute_result"
    }
   ],
   "source": [
    "data.dtype"
   ]
  },
  {
   "cell_type": "markdown",
   "metadata": {},
   "source": [
    "converting lists into arrays :"
   ]
  },
  {
   "cell_type": "code",
   "execution_count": 24,
   "metadata": {},
   "outputs": [
    {
     "data": {
      "text/plain": [
       "array([[1, 1, 1, 1],\n",
       "       [1, 1, 1, 1]])"
      ]
     },
     "execution_count": 24,
     "metadata": {},
     "output_type": "execute_result"
    }
   ],
   "source": [
    "lst1 = [[1,1,1,1],[1,1,1,1]]\n",
    "arr1 = np.array(lst1)\n",
    "arr1"
   ]
  },
  {
   "cell_type": "code",
   "execution_count": 26,
   "metadata": {},
   "outputs": [
    {
     "data": {
      "text/plain": [
       "array([[0., 0., 0., 0., 0., 0.],\n",
       "       [0., 0., 0., 0., 0., 0.],\n",
       "       [0., 0., 0., 0., 0., 0.],\n",
       "       [0., 0., 0., 0., 0., 0.]])"
      ]
     },
     "execution_count": 26,
     "metadata": {},
     "output_type": "execute_result"
    }
   ],
   "source": [
    "np.zeros([4,6])"
   ]
  },
  {
   "cell_type": "markdown",
   "metadata": {},
   "source": [
    "### important NumPy array creation functions\n",
    "| Function         | Description                                                                                                                                          |\n",
    "|------------------|------------------------------------------------------------------------------------------------------------------------------------------------------|\n",
    "| `array`          | Convert input data (list, tuple, array, or other sequence type) to an ndarray either by inferring a data type or explicitly specifying a data type; copies the input data by default. |\n",
    "| `asarray`        | Convert input to ndarray, but do not copy if the input is already an ndarray.                                                                        |\n",
    "| `arange`         | Like the built-in `range` but returns an ndarray instead of a list.                                                                                  |\n",
    "| `ones`           | Produce an array of all 1s with the given shape and data type.                                                                                       |\n",
    "| `ones_like`      | Takes another array and produces a ones array of the same shape and data type.                                                                       |\n",
    "| `zeros`          | Like `ones` but producing arrays of 0s instead.                                                                                                      |\n",
    "| `zeros_like`     | Takes another array and produces a zeros array of the same shape and data type.                                                                      |\n",
    "| `empty`          | Create new arrays by allocating new memory, but do not populate with any values like `ones` and `zeros`.                                             |\n",
    "| `empty_like`     | Takes another array and produces an empty array of the same shape and data type.                                                                     |\n",
    "| `full`           | Produce an array of the given shape and data type with all values set to the indicated “fill value.”                                                 |\n",
    "| `full_like`      | Takes another array and produces a filled array of the same shape and data type.                                                                     |\n",
    "| `eye`, `identity`| Create a square N × N identity matrix (1s on the diagonal and 0s elsewhere).                                                                         |\n"
   ]
  },
  {
   "cell_type": "markdown",
   "metadata": {},
   "source": [
    "### Numpy Datatypes :\n",
    "| Type          | Type Code  | Description                                                                                               |\n",
    "|---------------|------------|-----------------------------------------------------------------------------------------------------------|\n",
    "| `int8`, `uint8`   | `i1`, `u1`   | Signed and unsigned 8-bit (1 byte) integer types                                                          |\n",
    "| `int16`, `uint16` | `i2`, `u2`   | Signed and unsigned 16-bit integer types                                                                  |\n",
    "| `int32`, `uint32` | `i4`, `u4`   | Signed and unsigned 32-bit integer types                                                                  |\n",
    "| `int64`, `uint64` | `i8`, `u8`   | Signed and unsigned 64-bit integer types                                                                  |\n",
    "| `float16`         | `f2`         | Half-precision floating point                                                                             |\n",
    "| `float32`         | `f4` or `f`  | Standard single-precision floating point; compatible with C `float`                                       |\n",
    "| `float64`         | `f8` or `d`  | Standard double-precision floating point; compatible with C `double` and Python `float` object            |\n",
    "| `float128`        | `f16` or `g` | Extended-precision floating point                                                                         |\n",
    "| `complex64`       | `c8`         | Complex numbers represented by two 32-bit floats                                                           |\n",
    "| `complex128`      | `c16`        | Complex numbers represented by two 64-bit floats                                                           |\n",
    "| `complex256`      | `c32`        | Complex numbers represented by two 128-bit floats                                                          |\n",
    "| `bool`            | `?`          | Boolean type storing `True` and `False` values                                                             |\n",
    "| `object`          | `O`          | Python object type; a value can be any Python object                                                       |\n",
    "| `string_`            | `S`          | Fixed-length ASCII string type (1 byte per character); for example, to create a string data type with length 10, use 'S10'                                                          |\n",
    "| `unicode_`          | `U`          | Fixed-length Unicode type (number of bytes platform specific); same specification semantics as string_ (e.g., 'U10')    \n"
   ]
  },
  {
   "cell_type": "code",
   "execution_count": 32,
   "metadata": {},
   "outputs": [
    {
     "data": {
      "text/plain": [
       "dtype('float64')"
      ]
     },
     "execution_count": 32,
     "metadata": {},
     "output_type": "execute_result"
    }
   ],
   "source": [
    "# mapping a dataype on a whole array\n",
    "arr2 = np.array([1.23, 2.34, 3.45], dtype=np.float64)\n",
    "arr2.dtype"
   ]
  },
  {
   "cell_type": "code",
   "execution_count": 33,
   "metadata": {},
   "outputs": [
    {
     "data": {
      "text/plain": [
       "array([1, 2, 3], dtype=int16)"
      ]
     },
     "execution_count": 33,
     "metadata": {},
     "output_type": "execute_result"
    }
   ],
   "source": [
    "strarr2 = arr2.astype(np.int16)\n",
    "strarr2"
   ]
  },
  {
   "cell_type": "code",
   "execution_count": 34,
   "metadata": {},
   "outputs": [
    {
     "data": {
      "text/plain": [
       "array([0., 1., 2., 3., 4., 5., 6., 7., 8., 9.])"
      ]
     },
     "execution_count": 34,
     "metadata": {},
     "output_type": "execute_result"
    }
   ],
   "source": [
    "int_array = np.arange(10)\n",
    "calibers = np.array([.22, .270, .357, .380, .44, .50], dtype=np.float64) \n",
    "int_array.astype(calibers.dtype)"
   ]
  }
 ],
 "metadata": {
  "kernelspec": {
   "display_name": "base",
   "language": "python",
   "name": "python3"
  },
  "language_info": {
   "codemirror_mode": {
    "name": "ipython",
    "version": 3
   },
   "file_extension": ".py",
   "mimetype": "text/x-python",
   "name": "python",
   "nbconvert_exporter": "python",
   "pygments_lexer": "ipython3",
   "version": "3.12.4"
  }
 },
 "nbformat": 4,
 "nbformat_minor": 2
}
