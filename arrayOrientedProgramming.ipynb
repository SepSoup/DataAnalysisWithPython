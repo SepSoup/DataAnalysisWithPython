{
 "cells": [
  {
   "cell_type": "markdown",
   "metadata": {},
   "source": [
    "# **Array Oriented Programming**\n",
    "\n",
    "##  Universal Functions:\n"
   ]
  },
  {
   "cell_type": "code",
   "execution_count": 2,
   "metadata": {},
   "outputs": [],
   "source": [
    "import numpy as np"
   ]
  },
  {
   "cell_type": "code",
   "execution_count": 11,
   "metadata": {},
   "outputs": [
    {
     "name": "stdout",
     "output_type": "stream",
     "text": [
      "[0.         1.         1.41421356 1.73205081 2.         2.23606798\n",
      " 2.44948974 2.64575131 2.82842712 3.        ]\n",
      "[1.00000000e+00 2.71828183e+00 7.38905610e+00 2.00855369e+01\n",
      " 5.45981500e+01 1.48413159e+02 4.03428793e+02 1.09663316e+03\n",
      " 2.98095799e+03 8.10308393e+03]\n"
     ]
    }
   ],
   "source": [
    "arr = np.arange(10)\n",
    "#sqrt\n",
    "print(np.sqrt(arr))\n",
    "#exp\n",
    "print(np.exp(arr))"
   ]
  },
  {
   "cell_type": "markdown",
   "metadata": {},
   "source": [
    "### How does `np.maximum` function ?\n",
    "- If a[i] > b[i], then a[i] is placed in the result.\n",
    "- If a[i] <= b[i], then b[i] is placed in the result.\n"
   ]
  },
  {
   "cell_type": "code",
   "execution_count": 13,
   "metadata": {},
   "outputs": [
    {
     "name": "stdout",
     "output_type": "stream",
     "text": [
      "[ 0.25831309  1.79738034 -0.47017928 -0.47490384  1.34270841  0.50422142\n",
      " -0.13720267  0.76689801  1.51306096 -0.0708849 ]\n",
      "[-3.60911095 -0.34041757 -1.23490892 -1.21199021  1.02297681  0.02093087\n",
      "  0.04373671 -0.93388082  0.56279285  0.88556837]\n",
      "max : [ 0.25831309  1.79738034 -0.47017928 -0.47490384  1.34270841  0.50422142\n",
      "  0.04373671  0.76689801  1.51306096  0.88556837]\n",
      "min : [-3.60911095 -0.34041757 -1.23490892 -1.21199021  1.02297681  0.02093087\n",
      " -0.13720267 -0.93388082  0.56279285 -0.0708849 ]\n"
     ]
    }
   ],
   "source": [
    "x = np.random.standard_normal(10)\n",
    "y = np.random.standard_normal(10)\n",
    "print(f'{x}\\n{y}')\n",
    "print(f'max : {np.maximum(x,y)}')\n",
    "print(f'min : {np.minimum(x,y)}')"
   ]
  },
  {
   "cell_type": "markdown",
   "metadata": {},
   "source": [
    "| Function          | Description                                                                                                           |\n",
    "|-------------------|-----------------------------------------------------------------------------------------------------------------------|\n",
    "| `abs`, `fabs`     | Compute the absolute value element-wise for integer, floating-point, or complex values                                |\n",
    "| `sqrt`            | Compute the square root of each element (equivalent to `arr ** 0.5`)                                                  |\n",
    "| `square`          | Compute the square of each element (equivalent to `arr ** 2`)                                                         |\n",
    "| `exp`             | Compute the exponent \\(e^x\\) of each element                                                                          |\n",
    "| `log`, `log10`, `log2`, `log1p` | Natural logarithm (base e), log base 10, log base 2, and log(1 + x), respectively                        |\n",
    "| `sign`            | Compute the sign of each element: 1 (positive), 0 (zero), or -1 (negative)                                            |\n",
    "| `ceil`            | Compute the ceiling of each element (i.e., the smallest integer greater than or equal to that number)                 |\n",
    "| `floor`           | Compute the floor of each element (i.e., the largest integer less than or equal to each element)                      |\n",
    "| `rint`            | Round elements to the nearest integer, preserving the dtype                                                           |\n",
    "| `modf`            | Return fractional and integral parts of an array as separate arrays                                                   |\n",
    "| `isnan`           | Return Boolean array indicating whether each value is NaN (Not a Number)                                              |\n",
    "| `isfinite`, `isinf` | Return Boolean array indicating whether each element is finite (non-inf, non-NaN) or infinite, respectively         |\n",
    "| `cos`, `cosh`, `sin`, `sinh`, `tan`, `tanh` | Regular and hyperbolic trigonometric functions                                              |\n",
    "| `arccos`, `arccosh`, `arcsin`, `arcsinh`, `arctan`, `arctanh` | Inverse trigonometric functions                                          |\n",
    "| `logical_not`     | Compute truth value of `not x` element-wise (equivalent to `~arr`)                                                   |"
   ]
  },
  {
   "cell_type": "markdown",
   "metadata": {},
   "source": [
    "### fractional and integral parts of a floating-point array"
   ]
  },
  {
   "cell_type": "code",
   "execution_count": 25,
   "metadata": {},
   "outputs": [
    {
     "name": "stdout",
     "output_type": "stream",
     "text": [
      "[ 3.76240481 -1.09181543 -1.04429931  7.17590079 -1.23341276]\n",
      "remainder: [ 0.76240481 -0.09181543 -0.04429931  0.17590079 -0.23341276]\n",
      "integer : [ 3. -1. -1.  7. -1.]\n"
     ]
    }
   ],
   "source": [
    "arr = np.random.standard_normal(5)*5\n",
    "# The purpose of multiplying by 5 is to generate random values from a normal distribution \n",
    "# that is still centered around 0 but with a wider spread (larger standard deviation).\n",
    "remainder, whole_part = np.modf(arr)\n",
    "print(arr)\n",
    "print(f'remainder: {remainder}')\n",
    "print(f'integer : {whole_part}')"
   ]
  },
  {
   "cell_type": "markdown",
   "metadata": {},
   "source": [
    "### Conditional Logic as Array Operations\n",
    "Suppose we wanted to take a value from xarr whenever the corresponding value in\n",
    "cond is True, and otherwise take the value from yarr.\n"
   ]
  },
  {
   "cell_type": "code",
   "execution_count": 35,
   "metadata": {},
   "outputs": [
    {
     "data": {
      "text/plain": [
       "array([1.1, 2.2, 1.3, 1.4, 2.5])"
      ]
     },
     "execution_count": 35,
     "metadata": {},
     "output_type": "execute_result"
    }
   ],
   "source": [
    "xarr = np.array([1.1,1.2,1.3,1.4,1.5])\n",
    "yarr = np.array([2.1,2.2,2.3,2.4,2.5])\n",
    "cond = np.array([True,False,True,True,False])\n",
    "cond2 = np.array([1,0,1,1,0])\n",
    "result = np.where(cond, xarr, yarr)\n",
    "result"
   ]
  },
  {
   "cell_type": "code",
   "execution_count": 49,
   "metadata": {},
   "outputs": [
    {
     "name": "stdout",
     "output_type": "stream",
     "text": [
      "[[ 2  4  2  1]\n",
      " [-1 -3 -5 -3]\n",
      " [-2  0 -5 -4]\n",
      " [ 0 -3 -5 -3]]\n",
      "[[ True  True  True  True]\n",
      " [False False False False]\n",
      " [False False False False]\n",
      " [False False False False]]\n"
     ]
    },
    {
     "data": {
      "text/plain": [
       "array([[2, 4, 2, 1],\n",
       "       [1, 3, 5, 3],\n",
       "       [2, 0, 5, 4],\n",
       "       [0, 3, 5, 3]])"
      ]
     },
     "execution_count": 49,
     "metadata": {},
     "output_type": "execute_result"
    }
   ],
   "source": [
    "arr = np.random.randint(low=-5, high=6, size=(4, 4))\n",
    "print(arr)\n",
    "print(arr > 0)\n",
    "# setting every value to a positive number\n",
    "np.where(arr > 0,arr,-arr) "
   ]
  },
  {
   "cell_type": "markdown",
   "metadata": {},
   "source": [
    "### Mathematical and Statistical Methods"
   ]
  },
  {
   "cell_type": "code",
   "execution_count": 59,
   "metadata": {},
   "outputs": [
    {
     "name": "stdout",
     "output_type": "stream",
     "text": [
      "[[-84 -82 -79 -65  85]\n",
      " [-69 -70  38  59  88]\n",
      " [-12 -44 -81 -66 -23]\n",
      " [-35  24 -71  21  95]\n",
      " [ 91 -60 -19  58 -34]]\n",
      "abs :\n",
      " [[84 82 79 65 85]\n",
      " [69 70 38 59 88]\n",
      " [12 44 81 66 23]\n",
      " [35 24 71 21 95]\n",
      " [91 60 19 58 34]]\n",
      "sum : -335\n",
      "mean : -13.4\n",
      "average : -13.4\n"
     ]
    }
   ],
   "source": [
    "arr = np.random.randint(low=-100,high=100, size =(5,5))\n",
    "print(arr)\n",
    "print(f'abs :\\n {np.abs(arr)}')\n",
    "print(f'sum : {np.sum(arr)}')\n",
    "print(f'mean : {np.mean(arr)}')\n",
    "print(f'average : {np.average(arr)}')"
   ]
  },
  {
   "cell_type": "code",
   "execution_count": 60,
   "metadata": {},
   "outputs": [
    {
     "name": "stdout",
     "output_type": "stream",
     "text": [
      "[[ 49 -17  22 -15   2]\n",
      " [-35 -30 -88  55 -28]\n",
      " [ 66  28   4  47   1]\n",
      " [  5  70  48  29  29]\n",
      " [-44 -13  69 -68 -50]]\n"
     ]
    },
    {
     "data": {
      "text/plain": [
       "array([ 41,  38,  55,  48, -46])"
      ]
     },
     "execution_count": 60,
     "metadata": {},
     "output_type": "execute_result"
    }
   ],
   "source": [
    "arr = np.random.randint(low=-100,high=100, size =(5,5))\n",
    "print(arr)\n",
    "# Here, arr.mean(axis=1) means “compute mean across the columns,” where arr.sum(axis=0) means “compute sum down the rows.”\n",
    "arr.sum(axis=0)"
   ]
  },
  {
   "cell_type": "markdown",
   "metadata": {},
   "source": [
    "- Cumulative sums, or running totals, are used to display the total sum of data as it grows with time"
   ]
  },
  {
   "cell_type": "code",
   "execution_count": 61,
   "metadata": {},
   "outputs": [
    {
     "data": {
      "text/plain": [
       "array([ 0,  1,  3,  6, 10, 15, 21, 28])"
      ]
     },
     "execution_count": 61,
     "metadata": {},
     "output_type": "execute_result"
    }
   ],
   "source": [
    "arr = np.array([0, 1, 2, 3, 4, 5, 6, 7])\n",
    "arr.cumsum()"
   ]
  },
  {
   "cell_type": "markdown",
   "metadata": {},
   "source": [
    "For each column, compute the cumulative sum of the elements. This means that for each element in a column, you add it to the sum of the elements above it in the same column."
   ]
  },
  {
   "cell_type": "code",
   "execution_count": 64,
   "metadata": {},
   "outputs": [
    {
     "name": "stdout",
     "output_type": "stream",
     "text": [
      "computes the cumulative sum along the rows ( through the columns ) :\n",
      " [[ 1  2  3]\n",
      " [ 5  7  9]\n",
      " [12 15 18]]\n",
      "computes the cumulative sum along the columns ( through the rows ) :\n",
      " [[ 1  3  6]\n",
      " [ 4  9 15]\n",
      " [ 7 15 24]]\n"
     ]
    }
   ],
   "source": [
    "arr = np.array([\n",
    "    [1,2,3],\n",
    "    [4,5,6],\n",
    "    [7,8,9]\n",
    "])\n",
    "print(f'computes the cumulative sum along the rows ( through the columns ) :\\n {arr.cumsum(axis=0)}')\n",
    "print(f'computes the cumulative sum along the columns ( through the rows ) :\\n {arr.cumsum(axis=1)}')"
   ]
  },
  {
   "cell_type": "markdown",
   "metadata": {},
   "source": [
    "| Method       | Description                                                                                 |\n",
    "|--------------|---------------------------------------------------------------------------------------------|\n",
    "| `sum`        | Sum of all the elements in the array or along an axis; zero-length arrays have sum 0        |\n",
    "| `mean`       | Arithmetic mean; invalid (returns NaN) on zero-length arrays                                |\n",
    "| `std`, `var` | Standard deviation and variance, respectively                                                |\n",
    "| `min`, `max` | Minimum and maximum                                                                          |\n",
    "| `argmin`, `argmax` | Indices of minimum and maximum elements, respectively                                  |\n",
    "| `cumsum`     | Cumulative sum of elements starting from 0                                                   |\n",
    "| `cumprod`    | Cumulative product of elements starting from 1                                               |\n"
   ]
  },
  {
   "cell_type": "markdown",
   "metadata": {},
   "source": [
    "sum is often used as a means of counting True values in a Boolean array:"
   ]
  },
  {
   "cell_type": "code",
   "execution_count": 76,
   "metadata": {},
   "outputs": [
    {
     "name": "stdout",
     "output_type": "stream",
     "text": [
      "[[False  True False  True]\n",
      " [False  True  True False]\n",
      " [False  True  True  True]\n",
      " [False False  True False]]\n",
      "number of trues : 8\n",
      "True\n",
      "False\n"
     ]
    }
   ],
   "source": [
    "arr = np.random.randint(low=0,high=2,size=(4,4))\n",
    "arr = arr.astype(bool)\n",
    "print(arr)\n",
    "print(f'number of trues : {arr.sum()}')\n",
    "# if any value is True\n",
    "print(arr.any())\n",
    "# if all the values are True\n",
    "print(arr.all())"
   ]
  },
  {
   "cell_type": "code",
   "execution_count": 75,
   "metadata": {},
   "outputs": [
    {
     "name": "stdout",
     "output_type": "stream",
     "text": [
      "[ 0.75549789  0.99123452 -1.06999637 -0.4612214   1.94447775 -0.40661171\n",
      "  0.25680135  0.45227684  1.33493103  1.07025406 -0.4347959  -0.05403803\n",
      "  0.46523537 -0.8971996   1.08196901 -0.88867604  0.86815444 -1.27857436\n",
      "  0.06306072 -0.33753665]\n",
      "number of trues : 11\n"
     ]
    }
   ],
   "source": [
    "arr = np.random.standard_normal(20)\n",
    "print(arr)\n",
    "print(f'number of trues : {(arr>0).sum()}')"
   ]
  }
 ],
 "metadata": {
  "kernelspec": {
   "display_name": "base",
   "language": "python",
   "name": "python3"
  },
  "language_info": {
   "codemirror_mode": {
    "name": "ipython",
    "version": 3
   },
   "file_extension": ".py",
   "mimetype": "text/x-python",
   "name": "python",
   "nbconvert_exporter": "python",
   "pygments_lexer": "ipython3",
   "version": "3.12.4"
  }
 },
 "nbformat": 4,
 "nbformat_minor": 2
}
