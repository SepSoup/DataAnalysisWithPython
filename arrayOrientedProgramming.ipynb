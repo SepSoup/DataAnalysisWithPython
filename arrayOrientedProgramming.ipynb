{
 "cells": [
  {
   "cell_type": "markdown",
   "metadata": {},
   "source": [
    "# **Array Oriented Programming**\n",
    "\n",
    "##  Universal Functions:\n"
   ]
  },
  {
   "cell_type": "code",
   "execution_count": 2,
   "metadata": {},
   "outputs": [],
   "source": [
    "import numpy as np"
   ]
  },
  {
   "cell_type": "code",
   "execution_count": 11,
   "metadata": {},
   "outputs": [
    {
     "name": "stdout",
     "output_type": "stream",
     "text": [
      "[0.         1.         1.41421356 1.73205081 2.         2.23606798\n",
      " 2.44948974 2.64575131 2.82842712 3.        ]\n",
      "[1.00000000e+00 2.71828183e+00 7.38905610e+00 2.00855369e+01\n",
      " 5.45981500e+01 1.48413159e+02 4.03428793e+02 1.09663316e+03\n",
      " 2.98095799e+03 8.10308393e+03]\n"
     ]
    }
   ],
   "source": [
    "arr = np.arange(10)\n",
    "#sqrt\n",
    "print(np.sqrt(arr))\n",
    "#exp\n",
    "print(np.exp(arr))"
   ]
  },
  {
   "cell_type": "markdown",
   "metadata": {},
   "source": [
    "### How does `np.maximum` function ?\n",
    "- If a[i] > b[i], then a[i] is placed in the result.\n",
    "- If a[i] <= b[i], then b[i] is placed in the result.\n"
   ]
  },
  {
   "cell_type": "code",
   "execution_count": 13,
   "metadata": {},
   "outputs": [
    {
     "name": "stdout",
     "output_type": "stream",
     "text": [
      "[ 0.25831309  1.79738034 -0.47017928 -0.47490384  1.34270841  0.50422142\n",
      " -0.13720267  0.76689801  1.51306096 -0.0708849 ]\n",
      "[-3.60911095 -0.34041757 -1.23490892 -1.21199021  1.02297681  0.02093087\n",
      "  0.04373671 -0.93388082  0.56279285  0.88556837]\n",
      "max : [ 0.25831309  1.79738034 -0.47017928 -0.47490384  1.34270841  0.50422142\n",
      "  0.04373671  0.76689801  1.51306096  0.88556837]\n",
      "min : [-3.60911095 -0.34041757 -1.23490892 -1.21199021  1.02297681  0.02093087\n",
      " -0.13720267 -0.93388082  0.56279285 -0.0708849 ]\n"
     ]
    }
   ],
   "source": [
    "x = np.random.standard_normal(10)\n",
    "y = np.random.standard_normal(10)\n",
    "print(f'{x}\\n{y}')\n",
    "print(f'max : {np.maximum(x,y)}')\n",
    "print(f'min : {np.minimum(x,y)}')"
   ]
  },
  {
   "cell_type": "markdown",
   "metadata": {},
   "source": [
    "| Function          | Description                                                                                                           |\n",
    "|-------------------|-----------------------------------------------------------------------------------------------------------------------|\n",
    "| `abs`, `fabs`     | Compute the absolute value element-wise for integer, floating-point, or complex values                                |\n",
    "| `sqrt`            | Compute the square root of each element (equivalent to `arr ** 0.5`)                                                  |\n",
    "| `square`          | Compute the square of each element (equivalent to `arr ** 2`)                                                         |\n",
    "| `exp`             | Compute the exponent \\(e^x\\) of each element                                                                          |\n",
    "| `log`, `log10`, `log2`, `log1p` | Natural logarithm (base e), log base 10, log base 2, and log(1 + x), respectively                        |\n",
    "| `sign`            | Compute the sign of each element: 1 (positive), 0 (zero), or -1 (negative)                                            |\n",
    "| `ceil`            | Compute the ceiling of each element (i.e., the smallest integer greater than or equal to that number)                 |\n",
    "| `floor`           | Compute the floor of each element (i.e., the largest integer less than or equal to each element)                      |\n",
    "| `rint`            | Round elements to the nearest integer, preserving the dtype                                                           |\n",
    "| `modf`            | Return fractional and integral parts of an array as separate arrays                                                   |\n",
    "| `isnan`           | Return Boolean array indicating whether each value is NaN (Not a Number)                                              |\n",
    "| `isfinite`, `isinf` | Return Boolean array indicating whether each element is finite (non-inf, non-NaN) or infinite, respectively         |\n",
    "| `cos`, `cosh`, `sin`, `sinh`, `tan`, `tanh` | Regular and hyperbolic trigonometric functions                                              |\n",
    "| `arccos`, `arccosh`, `arcsin`, `arcsinh`, `arctan`, `arctanh` | Inverse trigonometric functions                                          |\n",
    "| `logical_not`     | Compute truth value of `not x` element-wise (equivalent to `~arr`)                                                   |"
   ]
  },
  {
   "cell_type": "markdown",
   "metadata": {},
   "source": [
    "### fractional and integral parts of a floating-point array"
   ]
  },
  {
   "cell_type": "code",
   "execution_count": 25,
   "metadata": {},
   "outputs": [
    {
     "name": "stdout",
     "output_type": "stream",
     "text": [
      "[ 3.76240481 -1.09181543 -1.04429931  7.17590079 -1.23341276]\n",
      "remainder: [ 0.76240481 -0.09181543 -0.04429931  0.17590079 -0.23341276]\n",
      "integer : [ 3. -1. -1.  7. -1.]\n"
     ]
    }
   ],
   "source": [
    "arr = np.random.standard_normal(5)*5\n",
    "# The purpose of multiplying by 5 is to generate random values from a normal distribution \n",
    "# that is still centered around 0 but with a wider spread (larger standard deviation).\n",
    "remainder, whole_part = np.modf(arr)\n",
    "print(arr)\n",
    "print(f'remainder: {remainder}')\n",
    "print(f'integer : {whole_part}')"
   ]
  }
 ],
 "metadata": {
  "kernelspec": {
   "display_name": "base",
   "language": "python",
   "name": "python3"
  },
  "language_info": {
   "codemirror_mode": {
    "name": "ipython",
    "version": 3
   },
   "file_extension": ".py",
   "mimetype": "text/x-python",
   "name": "python",
   "nbconvert_exporter": "python",
   "pygments_lexer": "ipython3",
   "version": "3.12.4"
  }
 },
 "nbformat": 4,
 "nbformat_minor": 2
}
